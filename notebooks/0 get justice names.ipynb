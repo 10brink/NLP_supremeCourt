{
 "cells": [
  {
   "cell_type": "markdown",
   "metadata": {},
   "source": [
    "## Get names of all justices\n",
    "to compare with webscrape documents. \n"
   ]
  },
  {
   "cell_type": "code",
   "execution_count": 4,
   "metadata": {},
   "outputs": [],
   "source": [
    "import requests\n",
    "import re\n",
    "from bs4 import BeautifulSoup\n",
    "import pandas as pd\n",
    "\n",
    "import html5lib\n"
   ]
  },
  {
   "cell_type": "code",
   "execution_count": 2,
   "metadata": {},
   "outputs": [],
   "source": [
    "table = pd.read_html(\"https://en.wikipedia.org/wiki/List_of_Justices_of_the_Supreme_Court_of_the_United_States\")\n",
    "table = table[1]\n",
    "df = pd.DataFrame(table)"
   ]
  },
  {
   "cell_type": "code",
   "execution_count": 7,
   "metadata": {},
   "outputs": [
    {
     "data": {
      "text/html": [
       "<div>\n",
       "<style scoped>\n",
       "    .dataframe tbody tr th:only-of-type {\n",
       "        vertical-align: middle;\n",
       "    }\n",
       "\n",
       "    .dataframe tbody tr th {\n",
       "        vertical-align: top;\n",
       "    }\n",
       "\n",
       "    .dataframe thead th {\n",
       "        text-align: right;\n",
       "    }\n",
       "</style>\n",
       "<table border=\"1\" class=\"dataframe\">\n",
       "  <thead>\n",
       "    <tr style=\"text-align: right;\">\n",
       "      <th></th>\n",
       "      <th>0</th>\n",
       "      <th>1</th>\n",
       "      <th>2</th>\n",
       "      <th>3</th>\n",
       "      <th>4</th>\n",
       "      <th>5</th>\n",
       "      <th>6</th>\n",
       "      <th>7</th>\n",
       "      <th>8</th>\n",
       "      <th>9</th>\n",
       "    </tr>\n",
       "  </thead>\n",
       "  <tbody>\n",
       "    <tr>\n",
       "      <th>0</th>\n",
       "      <td>Justice</td>\n",
       "      <td>State[c]</td>\n",
       "      <td>Position</td>\n",
       "      <td>Replacing</td>\n",
       "      <td>Date confirmed (Vote)</td>\n",
       "      <td>Tenure</td>\n",
       "      <td>Tenure length[d]</td>\n",
       "      <td>Appointed by</td>\n",
       "      <td>NaN</td>\n",
       "      <td>NaN</td>\n",
       "    </tr>\n",
       "    <tr>\n",
       "      <th>1</th>\n",
       "      <td>1</td>\n",
       "      <td>NaN</td>\n",
       "      <td>John Jay (1745–1829)</td>\n",
       "      <td>NY</td>\n",
       "      <td>001 !Chief Justice</td>\n",
       "      <td>New seat</td>\n",
       "      <td>000000001789-09-26-0000September 26, 1789 (Acc...</td>\n",
       "      <td>000000001789-10-19-0000October 19, 1789 – June...</td>\n",
       "      <td>7003207900000000000♠5 years, 253 days</td>\n",
       "      <td>George Washington</td>\n",
       "    </tr>\n",
       "  </tbody>\n",
       "</table>\n",
       "</div>"
      ],
      "text/plain": [
       "         0         1                     2          3                      4  \\\n",
       "0  Justice  State[c]              Position  Replacing  Date confirmed (Vote)   \n",
       "1        1       NaN  John Jay (1745–1829)         NY     001 !Chief Justice   \n",
       "\n",
       "          5                                                  6  \\\n",
       "0    Tenure                                   Tenure length[d]   \n",
       "1  New seat  000000001789-09-26-0000September 26, 1789 (Acc...   \n",
       "\n",
       "                                                   7  \\\n",
       "0                                       Appointed by   \n",
       "1  000000001789-10-19-0000October 19, 1789 – June...   \n",
       "\n",
       "                                       8                  9  \n",
       "0                                    NaN                NaN  \n",
       "1  7003207900000000000♠5 years, 253 days  George Washington  "
      ]
     },
     "execution_count": 7,
     "metadata": {},
     "output_type": "execute_result"
    }
   ],
   "source": [
    "df.head(2)"
   ]
  },
  {
   "cell_type": "code",
   "execution_count": 10,
   "metadata": {},
   "outputs": [],
   "source": [
    "df.columns = [\"ix\", \"dummy\", \"name\", \"State\", \"position\", \"replacing\", \"dateconfirmed\", \"tenure\", \"legnth\", \"Appointedby\" ]\n"
   ]
  },
  {
   "cell_type": "code",
   "execution_count": 33,
   "metadata": {},
   "outputs": [
    {
     "data": {
      "text/html": [
       "<div>\n",
       "<style scoped>\n",
       "    .dataframe tbody tr th:only-of-type {\n",
       "        vertical-align: middle;\n",
       "    }\n",
       "\n",
       "    .dataframe tbody tr th {\n",
       "        vertical-align: top;\n",
       "    }\n",
       "\n",
       "    .dataframe thead th {\n",
       "        text-align: right;\n",
       "    }\n",
       "</style>\n",
       "<table border=\"1\" class=\"dataframe\">\n",
       "  <thead>\n",
       "    <tr style=\"text-align: right;\">\n",
       "      <th></th>\n",
       "      <th>ix</th>\n",
       "      <th>dummy</th>\n",
       "      <th>name</th>\n",
       "      <th>State</th>\n",
       "      <th>position</th>\n",
       "      <th>replacing</th>\n",
       "      <th>dateconfirmed</th>\n",
       "      <th>tenure</th>\n",
       "      <th>legnth</th>\n",
       "      <th>Appointedby</th>\n",
       "    </tr>\n",
       "  </thead>\n",
       "  <tbody>\n",
       "    <tr>\n",
       "      <th>0</th>\n",
       "      <td>Justice</td>\n",
       "      <td>State[c]</td>\n",
       "      <td>Position</td>\n",
       "      <td>Replacing</td>\n",
       "      <td>Date confirmed (Vote)</td>\n",
       "      <td>Tenure</td>\n",
       "      <td>Tenure length[d]</td>\n",
       "      <td>Appointed by</td>\n",
       "      <td>NaN</td>\n",
       "      <td>NaN</td>\n",
       "    </tr>\n",
       "    <tr>\n",
       "      <th>1</th>\n",
       "      <td>1</td>\n",
       "      <td>NaN</td>\n",
       "      <td>John Jay (1745–1829)</td>\n",
       "      <td>NY</td>\n",
       "      <td>001 !Chief Justice</td>\n",
       "      <td>New seat</td>\n",
       "      <td>000000001789-09-26-0000September 26, 1789 (Acc...</td>\n",
       "      <td>000000001789-10-19-0000October 19, 1789 – June...</td>\n",
       "      <td>7003207900000000000♠5 years, 253 days</td>\n",
       "      <td>George Washington</td>\n",
       "    </tr>\n",
       "    <tr>\n",
       "      <th>2</th>\n",
       "      <td>2</td>\n",
       "      <td>NaN</td>\n",
       "      <td>John Rutledge (1739–1800)</td>\n",
       "      <td>SC</td>\n",
       "      <td>018 !Associate Justice</td>\n",
       "      <td>New seat</td>\n",
       "      <td>000000001789-09-26-0000September 26, 1789 (Acc...</td>\n",
       "      <td>000000001790-02-15-0000February 15, 1790 – Mar...</td>\n",
       "      <td>7002382000000000000♠1 year, 17 days</td>\n",
       "      <td>NaN</td>\n",
       "    </tr>\n",
       "    <tr>\n",
       "      <th>3</th>\n",
       "      <td>3</td>\n",
       "      <td>NaN</td>\n",
       "      <td>William Cushing (1732–1810)</td>\n",
       "      <td>MA</td>\n",
       "      <td>019 !Associate Justice</td>\n",
       "      <td>New seat</td>\n",
       "      <td>000000001789-09-26-0000September 26, 1789 (Acc...</td>\n",
       "      <td>000000001790-02-02-0000February 2, 1790 – Sept...</td>\n",
       "      <td>7003752700000000000♠20 years, 223 days</td>\n",
       "      <td>NaN</td>\n",
       "    </tr>\n",
       "    <tr>\n",
       "      <th>4</th>\n",
       "      <td>4</td>\n",
       "      <td>NaN</td>\n",
       "      <td>James Wilson (1742–1798)</td>\n",
       "      <td>PA</td>\n",
       "      <td>020 !Associate Justice</td>\n",
       "      <td>New seat</td>\n",
       "      <td>000000001789-09-26-0000September 26, 1789 (Acc...</td>\n",
       "      <td>000000001789-10-05-0000October 5, 1789 – Augus...</td>\n",
       "      <td>7003324200000000000♠8 years, 320 days</td>\n",
       "      <td>NaN</td>\n",
       "    </tr>\n",
       "    <tr>\n",
       "      <th>5</th>\n",
       "      <td>5</td>\n",
       "      <td>NaN</td>\n",
       "      <td>John Blair (1732–1800)</td>\n",
       "      <td>VA</td>\n",
       "      <td>021 !Associate Justice</td>\n",
       "      <td>New seat</td>\n",
       "      <td>000000001789-09-26-0000September 26, 1789 (Acc...</td>\n",
       "      <td>000000001790-02-02-0000February 2, 1790 – Octo...</td>\n",
       "      <td>7003209100000000000♠5 years, 265 days</td>\n",
       "      <td>NaN</td>\n",
       "    </tr>\n",
       "    <tr>\n",
       "      <th>6</th>\n",
       "      <td>6</td>\n",
       "      <td>NaN</td>\n",
       "      <td>James Iredell (1751–1799)</td>\n",
       "      <td>NC</td>\n",
       "      <td>022 !Associate Justice</td>\n",
       "      <td>New seat</td>\n",
       "      <td>000000001790-02-10-0000February 10, 1790 (Accl...</td>\n",
       "      <td>000000001790-05-12-0000May 12, 1790 – October ...</td>\n",
       "      <td>7003344800000000000♠9 years, 161 days</td>\n",
       "      <td>NaN</td>\n",
       "    </tr>\n",
       "    <tr>\n",
       "      <th>7</th>\n",
       "      <td>7</td>\n",
       "      <td>NaN</td>\n",
       "      <td>Thomas Johnson (1732–1819)</td>\n",
       "      <td>MD</td>\n",
       "      <td>023 !Associate Justice</td>\n",
       "      <td>J. Rutledge</td>\n",
       "      <td>000000001791-11-07-0000November 7, 1791 (Accla...</td>\n",
       "      <td>000000001792-08-06-0000August 6, 1792[e] – Jan...</td>\n",
       "      <td>7002163000000000000♠163 days</td>\n",
       "      <td>NaN</td>\n",
       "    </tr>\n",
       "    <tr>\n",
       "      <th>8</th>\n",
       "      <td>8</td>\n",
       "      <td>NaN</td>\n",
       "      <td>William Paterson (1745–1806)</td>\n",
       "      <td>NJ</td>\n",
       "      <td>024 !Associate Justice</td>\n",
       "      <td>T. Johnson</td>\n",
       "      <td>000000001793-03-04-0000March 4, 1793 (Acclamat...</td>\n",
       "      <td>000000001793-03-11-0000March 11, 1793 – Septem...</td>\n",
       "      <td>7003492800000000000♠13 years, 181 days</td>\n",
       "      <td>NaN</td>\n",
       "    </tr>\n",
       "    <tr>\n",
       "      <th>9</th>\n",
       "      <td>2</td>\n",
       "      <td>NaN</td>\n",
       "      <td>John Rutledge (1739–1800)</td>\n",
       "      <td>SC</td>\n",
       "      <td>002 !Chief Justice</td>\n",
       "      <td>Jay</td>\n",
       "      <td>000000001795-12-15-0000December 15, 1795 (10–1...</td>\n",
       "      <td>000000001795-08-12-0000August 12, 1795[e] – De...</td>\n",
       "      <td>7002138000000000000♠138 days</td>\n",
       "      <td>NaN</td>\n",
       "    </tr>\n",
       "    <tr>\n",
       "      <th>10</th>\n",
       "      <td>9</td>\n",
       "      <td>NaN</td>\n",
       "      <td>Samuel Chase[g] (1741–1811)</td>\n",
       "      <td>MD</td>\n",
       "      <td>025 !Associate Justice</td>\n",
       "      <td>Blair</td>\n",
       "      <td>000000001796-01-27-0000January 27, 1796 (Accla...</td>\n",
       "      <td>000000001796-02-04-0000February 4, 1796 – June...</td>\n",
       "      <td>7003561300000000000♠15 years, 135 days</td>\n",
       "      <td>NaN</td>\n",
       "    </tr>\n",
       "    <tr>\n",
       "      <th>11</th>\n",
       "      <td>10</td>\n",
       "      <td>NaN</td>\n",
       "      <td>Oliver Ellsworth (1745–1807)</td>\n",
       "      <td>CT</td>\n",
       "      <td>003 !Chief Justice</td>\n",
       "      <td>J. Rutledge</td>\n",
       "      <td>000000001796-03-04-0000March 4, 1796 (21–1)</td>\n",
       "      <td>000000001796-03-08-0000March 8, 1796 – Decembe...</td>\n",
       "      <td>7003174200000000000♠4 years, 282 days</td>\n",
       "      <td>NaN</td>\n",
       "    </tr>\n",
       "    <tr>\n",
       "      <th>12</th>\n",
       "      <td>11</td>\n",
       "      <td>NaN</td>\n",
       "      <td>Bushrod Washington (1762–1829)</td>\n",
       "      <td>VA</td>\n",
       "      <td>026 !Associate Justice</td>\n",
       "      <td>Wilson</td>\n",
       "      <td>000000001798-12-20-0000December 20, 1798 (Accl...</td>\n",
       "      <td>000000001798-11-09-0000November 9, 1798[e] – N...</td>\n",
       "      <td>7004113390000000000♠31 years, 17 days</td>\n",
       "      <td>John Adams</td>\n",
       "    </tr>\n",
       "    <tr>\n",
       "      <th>13</th>\n",
       "      <td>12</td>\n",
       "      <td>NaN</td>\n",
       "      <td>Alfred Moore (1755–1810)</td>\n",
       "      <td>NC</td>\n",
       "      <td>027 !Associate Justice</td>\n",
       "      <td>Iredell</td>\n",
       "      <td>000000001799-12-09-0000December 9, 1799 (Accla...</td>\n",
       "      <td>000000001800-04-21-0000April 21, 1800 – Januar...</td>\n",
       "      <td>7003137500000000000♠3 years, 280 days</td>\n",
       "      <td>NaN</td>\n",
       "    </tr>\n",
       "    <tr>\n",
       "      <th>14</th>\n",
       "      <td>13</td>\n",
       "      <td>NaN</td>\n",
       "      <td>John Marshall (1755–1835)</td>\n",
       "      <td>VA</td>\n",
       "      <td>004 !Chief Justice</td>\n",
       "      <td>Ellsworth</td>\n",
       "      <td>000000001801-01-27-0000January 27, 1801 (Accla...</td>\n",
       "      <td>000000001801-02-04-0000February 4, 1801 – July...</td>\n",
       "      <td>7004125700000000000♠34 years, 152 days</td>\n",
       "      <td>NaN</td>\n",
       "    </tr>\n",
       "  </tbody>\n",
       "</table>\n",
       "</div>"
      ],
      "text/plain": [
       "         ix     dummy                            name      State  \\\n",
       "0   Justice  State[c]                        Position  Replacing   \n",
       "1         1       NaN            John Jay (1745–1829)         NY   \n",
       "2         2       NaN       John Rutledge (1739–1800)         SC   \n",
       "3         3       NaN     William Cushing (1732–1810)         MA   \n",
       "4         4       NaN        James Wilson (1742–1798)         PA   \n",
       "5         5       NaN          John Blair (1732–1800)         VA   \n",
       "6         6       NaN       James Iredell (1751–1799)         NC   \n",
       "7         7       NaN      Thomas Johnson (1732–1819)         MD   \n",
       "8         8       NaN    William Paterson (1745–1806)         NJ   \n",
       "9         2       NaN       John Rutledge (1739–1800)         SC   \n",
       "10        9       NaN     Samuel Chase[g] (1741–1811)         MD   \n",
       "11       10       NaN    Oliver Ellsworth (1745–1807)         CT   \n",
       "12       11       NaN  Bushrod Washington (1762–1829)         VA   \n",
       "13       12       NaN        Alfred Moore (1755–1810)         NC   \n",
       "14       13       NaN       John Marshall (1755–1835)         VA   \n",
       "\n",
       "                  position    replacing  \\\n",
       "0    Date confirmed (Vote)       Tenure   \n",
       "1       001 !Chief Justice     New seat   \n",
       "2   018 !Associate Justice     New seat   \n",
       "3   019 !Associate Justice     New seat   \n",
       "4   020 !Associate Justice     New seat   \n",
       "5   021 !Associate Justice     New seat   \n",
       "6   022 !Associate Justice     New seat   \n",
       "7   023 !Associate Justice  J. Rutledge   \n",
       "8   024 !Associate Justice   T. Johnson   \n",
       "9       002 !Chief Justice          Jay   \n",
       "10  025 !Associate Justice        Blair   \n",
       "11      003 !Chief Justice  J. Rutledge   \n",
       "12  026 !Associate Justice       Wilson   \n",
       "13  027 !Associate Justice      Iredell   \n",
       "14      004 !Chief Justice    Ellsworth   \n",
       "\n",
       "                                        dateconfirmed  \\\n",
       "0                                    Tenure length[d]   \n",
       "1   000000001789-09-26-0000September 26, 1789 (Acc...   \n",
       "2   000000001789-09-26-0000September 26, 1789 (Acc...   \n",
       "3   000000001789-09-26-0000September 26, 1789 (Acc...   \n",
       "4   000000001789-09-26-0000September 26, 1789 (Acc...   \n",
       "5   000000001789-09-26-0000September 26, 1789 (Acc...   \n",
       "6   000000001790-02-10-0000February 10, 1790 (Accl...   \n",
       "7   000000001791-11-07-0000November 7, 1791 (Accla...   \n",
       "8   000000001793-03-04-0000March 4, 1793 (Acclamat...   \n",
       "9   000000001795-12-15-0000December 15, 1795 (10–1...   \n",
       "10  000000001796-01-27-0000January 27, 1796 (Accla...   \n",
       "11        000000001796-03-04-0000March 4, 1796 (21–1)   \n",
       "12  000000001798-12-20-0000December 20, 1798 (Accl...   \n",
       "13  000000001799-12-09-0000December 9, 1799 (Accla...   \n",
       "14  000000001801-01-27-0000January 27, 1801 (Accla...   \n",
       "\n",
       "                                               tenure  \\\n",
       "0                                        Appointed by   \n",
       "1   000000001789-10-19-0000October 19, 1789 – June...   \n",
       "2   000000001790-02-15-0000February 15, 1790 – Mar...   \n",
       "3   000000001790-02-02-0000February 2, 1790 – Sept...   \n",
       "4   000000001789-10-05-0000October 5, 1789 – Augus...   \n",
       "5   000000001790-02-02-0000February 2, 1790 – Octo...   \n",
       "6   000000001790-05-12-0000May 12, 1790 – October ...   \n",
       "7   000000001792-08-06-0000August 6, 1792[e] – Jan...   \n",
       "8   000000001793-03-11-0000March 11, 1793 – Septem...   \n",
       "9   000000001795-08-12-0000August 12, 1795[e] – De...   \n",
       "10  000000001796-02-04-0000February 4, 1796 – June...   \n",
       "11  000000001796-03-08-0000March 8, 1796 – Decembe...   \n",
       "12  000000001798-11-09-0000November 9, 1798[e] – N...   \n",
       "13  000000001800-04-21-0000April 21, 1800 – Januar...   \n",
       "14  000000001801-02-04-0000February 4, 1801 – July...   \n",
       "\n",
       "                                    legnth        Appointedby  \n",
       "0                                      NaN                NaN  \n",
       "1    7003207900000000000♠5 years, 253 days  George Washington  \n",
       "2      7002382000000000000♠1 year, 17 days                NaN  \n",
       "3   7003752700000000000♠20 years, 223 days                NaN  \n",
       "4    7003324200000000000♠8 years, 320 days                NaN  \n",
       "5    7003209100000000000♠5 years, 265 days                NaN  \n",
       "6    7003344800000000000♠9 years, 161 days                NaN  \n",
       "7             7002163000000000000♠163 days                NaN  \n",
       "8   7003492800000000000♠13 years, 181 days                NaN  \n",
       "9             7002138000000000000♠138 days                NaN  \n",
       "10  7003561300000000000♠15 years, 135 days                NaN  \n",
       "11   7003174200000000000♠4 years, 282 days                NaN  \n",
       "12   7004113390000000000♠31 years, 17 days         John Adams  \n",
       "13   7003137500000000000♠3 years, 280 days                NaN  \n",
       "14  7004125700000000000♠34 years, 152 days                NaN  "
      ]
     },
     "execution_count": 33,
     "metadata": {},
     "output_type": "execute_result"
    }
   ],
   "source": [
    "df.head(15)"
   ]
  },
  {
   "cell_type": "code",
   "execution_count": 32,
   "metadata": {},
   "outputs": [
    {
     "data": {
      "text/plain": [
       "'Neil Gorsuch (born 1967)'"
      ]
     },
     "execution_count": 32,
     "metadata": {},
     "output_type": "execute_result"
    }
   ],
   "source": [
    "x = df.loc[118]['name']\n",
    "x"
   ]
  },
  {
   "cell_type": "code",
   "execution_count": 28,
   "metadata": {},
   "outputs": [
    {
     "data": {
      "text/plain": [
       "'Oliver Ellsworth (1745–1807)'"
      ]
     },
     "execution_count": 28,
     "metadata": {},
     "output_type": "execute_result"
    }
   ],
   "source": [
    "y= df.loc[11]['name']\n",
    "y"
   ]
  },
  {
   "cell_type": "code",
   "execution_count": 46,
   "metadata": {},
   "outputs": [],
   "source": [
    "def lastname(txt):\n",
    "    lastname = txt.split(\"(\")[0]\n",
    "    if lastname \n",
    "    name = lastname.split()[-1]\n",
    "    return name"
   ]
  },
  {
   "cell_type": "code",
   "execution_count": 47,
   "metadata": {},
   "outputs": [
    {
     "data": {
      "text/plain": [
       "'Gorsuch'"
      ]
     },
     "execution_count": 47,
     "metadata": {},
     "output_type": "execute_result"
    }
   ],
   "source": [
    "lastname(x)"
   ]
  },
  {
   "cell_type": "code",
   "execution_count": 48,
   "metadata": {},
   "outputs": [],
   "source": [
    "df.name = df.name.apply(lastname)"
   ]
  },
  {
   "cell_type": "code",
   "execution_count": 71,
   "metadata": {},
   "outputs": [
    {
     "data": {
      "text/plain": [
       "0        Position\n",
       "1             Jay\n",
       "2        Rutledge\n",
       "3         Cushing\n",
       "4          Wilson\n",
       "5           Blair\n",
       "6         Iredell\n",
       "7         Johnson\n",
       "8        Paterson\n",
       "9        Rutledge\n",
       "10       Chase[g]\n",
       "11      Ellsworth\n",
       "12     Washington\n",
       "13          Moore\n",
       "14       Marshall\n",
       "15        Johnson\n",
       "16     Livingston\n",
       "17           Todd\n",
       "18         Duvall\n",
       "19          Story\n",
       "20       Thompson\n",
       "21        Trimble\n",
       "22         McLean\n",
       "23        Baldwin\n",
       "24          Wayne\n",
       "25          Taney\n",
       "26        Barbour\n",
       "27         Catron\n",
       "28       McKinley\n",
       "29         Daniel\n",
       "          ...    \n",
       "90          Clark\n",
       "91         Minton\n",
       "92         Warren\n",
       "93             II\n",
       "94        Brennan\n",
       "95      Whittaker\n",
       "96        Stewart\n",
       "97          White\n",
       "98       Goldberg\n",
       "99         Fortas\n",
       "100      Marshall\n",
       "101        Burger\n",
       "102      Blackmun\n",
       "103           Jr.\n",
       "104     Rehnquist\n",
       "105       Stevens\n",
       "106      O'Connor\n",
       "107     Rehnquist\n",
       "108        Scalia\n",
       "109       Kennedy\n",
       "110        Souter\n",
       "111        Thomas\n",
       "112      Ginsburg\n",
       "113        Breyer\n",
       "114       Roberts\n",
       "115         Alito\n",
       "116     Sotomayor\n",
       "117         Kagan\n",
       "118       Gorsuch\n",
       "119      Position\n",
       "Name: name, Length: 120, dtype: object"
      ]
     },
     "execution_count": 71,
     "metadata": {},
     "output_type": "execute_result"
    }
   ],
   "source": [
    "df.name"
   ]
  },
  {
   "cell_type": "code",
   "execution_count": 72,
   "metadata": {},
   "outputs": [],
   "source": [
    "names = list(df.name.unique())"
   ]
  },
  {
   "cell_type": "code",
   "execution_count": 73,
   "metadata": {},
   "outputs": [
    {
     "data": {
      "text/plain": [
       "'Position'"
      ]
     },
     "execution_count": 73,
     "metadata": {},
     "output_type": "execute_result"
    }
   ],
   "source": [
    "names.pop(0)"
   ]
  },
  {
   "cell_type": "code",
   "execution_count": 74,
   "metadata": {},
   "outputs": [],
   "source": [
    "names.remove('Jr.')"
   ]
  },
  {
   "cell_type": "code",
   "execution_count": 75,
   "metadata": {},
   "outputs": [],
   "source": [
    "names.remove('II')"
   ]
  },
  {
   "cell_type": "code",
   "execution_count": 76,
   "metadata": {},
   "outputs": [],
   "source": [
    "other = ['Shiras', 'Holmes', 'Brennan', 'Powell' , 'Harlan', 'Lamar']"
   ]
  },
  {
   "cell_type": "code",
   "execution_count": 77,
   "metadata": {},
   "outputs": [],
   "source": [
    "justices = names + other"
   ]
  },
  {
   "cell_type": "code",
   "execution_count": 78,
   "metadata": {},
   "outputs": [],
   "source": [
    "justices.remove('Chase[g]')\n"
   ]
  },
  {
   "cell_type": "code",
   "execution_count": 6,
   "metadata": {},
   "outputs": [
    {
     "data": {
      "text/html": [
       "<div>\n",
       "<style scoped>\n",
       "    .dataframe tbody tr th:only-of-type {\n",
       "        vertical-align: middle;\n",
       "    }\n",
       "\n",
       "    .dataframe tbody tr th {\n",
       "        vertical-align: top;\n",
       "    }\n",
       "\n",
       "    .dataframe thead th {\n",
       "        text-align: right;\n",
       "    }\n",
       "</style>\n",
       "<table border=\"1\" class=\"dataframe\">\n",
       "  <thead>\n",
       "    <tr style=\"text-align: right;\">\n",
       "      <th></th>\n",
       "      <th>0</th>\n",
       "      <th>1</th>\n",
       "      <th>2</th>\n",
       "      <th>3</th>\n",
       "      <th>4</th>\n",
       "      <th>5</th>\n",
       "      <th>6</th>\n",
       "      <th>7</th>\n",
       "      <th>8</th>\n",
       "      <th>9</th>\n",
       "      <th>...</th>\n",
       "      <th>97</th>\n",
       "      <th>98</th>\n",
       "      <th>99</th>\n",
       "      <th>100</th>\n",
       "      <th>101</th>\n",
       "      <th>102</th>\n",
       "      <th>103</th>\n",
       "      <th>104</th>\n",
       "      <th>105</th>\n",
       "      <th>106</th>\n",
       "    </tr>\n",
       "  </thead>\n",
       "  <tbody>\n",
       "    <tr>\n",
       "      <th>0</th>\n",
       "      <td>Jay</td>\n",
       "      <td>Rutledge</td>\n",
       "      <td>Cushing</td>\n",
       "      <td>Wilson</td>\n",
       "      <td>Blair</td>\n",
       "      <td>Iredell</td>\n",
       "      <td>Johnson</td>\n",
       "      <td>Paterson</td>\n",
       "      <td>Ellsworth</td>\n",
       "      <td>Washington</td>\n",
       "      <td>...</td>\n",
       "      <td>Alito</td>\n",
       "      <td>Sotomayor</td>\n",
       "      <td>Kagan</td>\n",
       "      <td>Gorsuch</td>\n",
       "      <td>Shiras</td>\n",
       "      <td>Holmes</td>\n",
       "      <td>Brennan</td>\n",
       "      <td>Powell</td>\n",
       "      <td>Harlan</td>\n",
       "      <td>Lamar</td>\n",
       "    </tr>\n",
       "  </tbody>\n",
       "</table>\n",
       "<p>1 rows × 107 columns</p>\n",
       "</div>"
      ],
      "text/plain": [
       "   0         1        2       3      4        5        6         7    \\\n",
       "0  Jay  Rutledge  Cushing  Wilson  Blair  Iredell  Johnson  Paterson   \n",
       "\n",
       "         8           9    ...      97         98     99       100     101  \\\n",
       "0  Ellsworth  Washington  ...    Alito  Sotomayor  Kagan  Gorsuch  Shiras   \n",
       "\n",
       "      102      103     104     105    106  \n",
       "0  Holmes  Brennan  Powell  Harlan  Lamar  \n",
       "\n",
       "[1 rows x 107 columns]"
      ]
     },
     "execution_count": 6,
     "metadata": {},
     "output_type": "execute_result"
    }
   ],
   "source": [
    "justices = pd.read_csv('justices.csv', header = None)\n",
    "justices"
   ]
  },
  {
   "cell_type": "code",
   "execution_count": 9,
   "metadata": {},
   "outputs": [],
   "source": [
    "justices.loc[0] = justices.loc[0].str.upper()"
   ]
  },
  {
   "cell_type": "code",
   "execution_count": 10,
   "metadata": {},
   "outputs": [
    {
     "data": {
      "text/html": [
       "<div>\n",
       "<style scoped>\n",
       "    .dataframe tbody tr th:only-of-type {\n",
       "        vertical-align: middle;\n",
       "    }\n",
       "\n",
       "    .dataframe tbody tr th {\n",
       "        vertical-align: top;\n",
       "    }\n",
       "\n",
       "    .dataframe thead th {\n",
       "        text-align: right;\n",
       "    }\n",
       "</style>\n",
       "<table border=\"1\" class=\"dataframe\">\n",
       "  <thead>\n",
       "    <tr style=\"text-align: right;\">\n",
       "      <th></th>\n",
       "      <th>0</th>\n",
       "      <th>1</th>\n",
       "      <th>2</th>\n",
       "      <th>3</th>\n",
       "      <th>4</th>\n",
       "      <th>5</th>\n",
       "      <th>6</th>\n",
       "      <th>7</th>\n",
       "      <th>8</th>\n",
       "      <th>9</th>\n",
       "      <th>...</th>\n",
       "      <th>97</th>\n",
       "      <th>98</th>\n",
       "      <th>99</th>\n",
       "      <th>100</th>\n",
       "      <th>101</th>\n",
       "      <th>102</th>\n",
       "      <th>103</th>\n",
       "      <th>104</th>\n",
       "      <th>105</th>\n",
       "      <th>106</th>\n",
       "    </tr>\n",
       "  </thead>\n",
       "  <tbody>\n",
       "    <tr>\n",
       "      <th>0</th>\n",
       "      <td>JAY</td>\n",
       "      <td>RUTLEDGE</td>\n",
       "      <td>CUSHING</td>\n",
       "      <td>WILSON</td>\n",
       "      <td>BLAIR</td>\n",
       "      <td>IREDELL</td>\n",
       "      <td>JOHNSON</td>\n",
       "      <td>PATERSON</td>\n",
       "      <td>ELLSWORTH</td>\n",
       "      <td>WASHINGTON</td>\n",
       "      <td>...</td>\n",
       "      <td>ALITO</td>\n",
       "      <td>SOTOMAYOR</td>\n",
       "      <td>KAGAN</td>\n",
       "      <td>GORSUCH</td>\n",
       "      <td>SHIRAS</td>\n",
       "      <td>HOLMES</td>\n",
       "      <td>BRENNAN</td>\n",
       "      <td>POWELL</td>\n",
       "      <td>HARLAN</td>\n",
       "      <td>LAMAR</td>\n",
       "    </tr>\n",
       "  </tbody>\n",
       "</table>\n",
       "<p>1 rows × 107 columns</p>\n",
       "</div>"
      ],
      "text/plain": [
       "   0         1        2       3      4        5        6         7    \\\n",
       "0  JAY  RUTLEDGE  CUSHING  WILSON  BLAIR  IREDELL  JOHNSON  PATERSON   \n",
       "\n",
       "         8           9    ...      97         98     99       100     101  \\\n",
       "0  ELLSWORTH  WASHINGTON  ...    ALITO  SOTOMAYOR  KAGAN  GORSUCH  SHIRAS   \n",
       "\n",
       "      102      103     104     105    106  \n",
       "0  HOLMES  BRENNAN  POWELL  HARLAN  LAMAR  \n",
       "\n",
       "[1 rows x 107 columns]"
      ]
     },
     "execution_count": 10,
     "metadata": {},
     "output_type": "execute_result"
    }
   ],
   "source": [
    "justices"
   ]
  },
  {
   "cell_type": "code",
   "execution_count": 90,
   "metadata": {},
   "outputs": [],
   "source": [
    "import csv\n",
    "with open(\"justices.csv\",\"w\",newline=\"\") as f: \n",
    "    cw = csv.writer(f)\n",
    "    cw.writerow(justices)"
   ]
  },
  {
   "cell_type": "code",
   "execution_count": 2,
   "metadata": {},
   "outputs": [
    {
     "ename": "NameError",
     "evalue": "name 'justices' is not defined",
     "output_type": "error",
     "traceback": [
      "\u001b[0;31m---------------------------------------------------------------------------\u001b[0m",
      "\u001b[0;31mNameError\u001b[0m                                 Traceback (most recent call last)",
      "\u001b[0;32m<ipython-input-2-15564a11f767>\u001b[0m in \u001b[0;36m<module>\u001b[0;34m()\u001b[0m\n\u001b[0;32m----> 1\u001b[0;31m \u001b[0;32mfor\u001b[0m \u001b[0mr\u001b[0m \u001b[0;32min\u001b[0m \u001b[0mjustices\u001b[0m\u001b[0;34m:\u001b[0m\u001b[0;34m\u001b[0m\u001b[0m\n\u001b[0m\u001b[1;32m      2\u001b[0m     \u001b[0mprint\u001b[0m \u001b[0;34m(\u001b[0m\u001b[0mr\u001b[0m\u001b[0;34m)\u001b[0m\u001b[0;34m\u001b[0m\u001b[0m\n",
      "\u001b[0;31mNameError\u001b[0m: name 'justices' is not defined"
     ]
    }
   ],
   "source": [
    "for r in justices:\n",
    "    print (r)"
   ]
  },
  {
   "cell_type": "code",
   "execution_count": null,
   "metadata": {},
   "outputs": [],
   "source": []
  }
 ],
 "metadata": {
  "kernelspec": {
   "display_name": "Python 3",
   "language": "python",
   "name": "python3"
  },
  "language_info": {
   "codemirror_mode": {
    "name": "ipython",
    "version": 3
   },
   "file_extension": ".py",
   "mimetype": "text/x-python",
   "name": "python",
   "nbconvert_exporter": "python",
   "pygments_lexer": "ipython3",
   "version": "3.6.5"
  }
 },
 "nbformat": 4,
 "nbformat_minor": 2
}
